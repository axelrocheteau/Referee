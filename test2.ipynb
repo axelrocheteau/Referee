{
 "cells": [
  {
   "cell_type": "code",
   "execution_count": 1,
   "metadata": {},
   "outputs": [],
   "source": [
    "from Classes.Administator import Administator\n",
    "from Classes.Websites.PMU import PMU\n",
    "from Classes.Websites.Winamax import Winamax\n",
    "from Classes.Best_bet import Best_bet\n",
    "import distance\n",
    "import numpy as np"
   ]
  },
  {
   "cell_type": "code",
   "execution_count": 2,
   "metadata": {},
   "outputs": [],
   "source": [
    "bet = Best_bet(\n",
    "    \"pile\",\n",
    "    \"face\",\n",
    "    \"pile ou face\",\n",
    "    [\"1\", \"2\"],\n",
    "    [2.1,2.3],\n",
    "    [\"bla\", \"bla\"]\n",
    ")"
   ]
  },
  {
   "cell_type": "code",
   "execution_count": 3,
   "metadata": {},
   "outputs": [
    {
     "name": "stdout",
     "output_type": "stream",
     "text": [
      "[[50.        ]\n",
      " [45.65217538]]\n"
     ]
    }
   ],
   "source": [
    "renta = bet.get_rentability()\n",
    "bet_on_odds = bet.make_money(10, 50)\n",
    "print(bet_on_odds)\n",
    "\n",
    "# m_size = len(bet.odds)\n",
    "# diagonal = np.array([odd - 1 for odd in bet.odds])\n",
    "# A = np.full((m_size, m_size), -1, np.float32)\n",
    "# print(A)\n",
    "# np.fill_diagonal(A, diagonal)\n",
    "# b = [[10] for _ in range(m_size)]"
   ]
  }
 ],
 "metadata": {
  "kernelspec": {
   "display_name": "Python 3",
   "language": "python",
   "name": "python3"
  },
  "language_info": {
   "codemirror_mode": {
    "name": "ipython",
    "version": 3
   },
   "file_extension": ".py",
   "mimetype": "text/x-python",
   "name": "python",
   "nbconvert_exporter": "python",
   "pygments_lexer": "ipython3",
   "version": "3.12.7"
  }
 },
 "nbformat": 4,
 "nbformat_minor": 2
}
