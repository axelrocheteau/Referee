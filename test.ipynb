{
 "cells": [
  {
   "cell_type": "code",
   "execution_count": 32,
   "metadata": {},
   "outputs": [],
   "source": [
    "from Classes.Administator import Administator\n",
    "from Classes.Websites.PMU import PMU\n",
    "from Classes.Websites.Winamax import Winamax\n",
    "import distance"
   ]
  },
  {
   "cell_type": "code",
   "execution_count": 33,
   "metadata": {},
   "outputs": [],
   "source": [
    "name_urls = [\n",
    "    {\"name\" : \"Winamax\", \"url\" : \"http://www.winamax.fr/paris-sportifs\", \"class\": Winamax}, \n",
    "    {\"name\" : \"PMU\", \"url\" : \"https://sports.pmu.fr/sportsbook/rest/v2/tree/?ln=fr\", \"class\" : PMU}\n",
    "]"
   ]
  },
  {
   "cell_type": "code",
   "execution_count": 34,
   "metadata": {},
   "outputs": [],
   "source": [
    "admin = Administator(name_urls)\n",
    "admin.organise_sport_bet()\n",
    "admin.gather_bets()\n",
    "\n"
   ]
  },
  {
   "cell_type": "code",
   "execution_count": 35,
   "metadata": {},
   "outputs": [],
   "source": [
    "admin.define_valuable_bets()"
   ]
  },
  {
   "cell_type": "code",
   "execution_count": 27,
   "metadata": {},
   "outputs": [],
   "source": [
    "# import asyncio\n",
    "# import nest_asyncio\n",
    "# from bs4 import BeautifulSoup\n",
    "# nest_asyncio.apply()\n",
    "# from pyppeteer.launcher import launch\n",
    "\n",
    "\n",
    "# async def main():\n",
    "#     browser = await launch({\"headless\":False})\n",
    "#     page = await browser.newPage()\n",
    "#     await page.goto(\"https://parisportif.pmu.fr/home/wrapper/dashboard?activeSportId=1\", {'waitUntil' : 'networkidle0'})\n",
    "#     await page.click('button[id=\"axeptio_btn_acceptAll\"]')\n",
    "#     soup = BeautifulSoup(await page.content(), 'html.parser')\n",
    "#     browser.close()\n",
    "\n",
    "# asyncio.get_event_loop().run_until_complete(main())\n"
   ]
  },
  {
   "cell_type": "code",
   "execution_count": null,
   "metadata": {},
   "outputs": [],
   "source": []
  }
 ],
 "metadata": {
  "kernelspec": {
   "display_name": "Python 3",
   "language": "python",
   "name": "python3"
  },
  "language_info": {
   "codemirror_mode": {
    "name": "ipython",
    "version": 3
   },
   "file_extension": ".py",
   "mimetype": "text/x-python",
   "name": "python",
   "nbconvert_exporter": "python",
   "pygments_lexer": "ipython3",
   "version": "3.12.7"
  }
 },
 "nbformat": 4,
 "nbformat_minor": 2
}
