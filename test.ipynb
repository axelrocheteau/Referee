{
 "cells": [
  {
   "cell_type": "code",
   "execution_count": 1,
   "metadata": {},
   "outputs": [],
   "source": [
    "from Websites.Winamax import Winamax\n",
    "from utils import name_urls\n",
    "import json"
   ]
  },
  {
   "cell_type": "code",
   "execution_count": 2,
   "metadata": {},
   "outputs": [],
   "source": [
    "winamax = Winamax('winamax', name_urls['Winamax'])\n"
   ]
  },
  {
   "cell_type": "code",
   "execution_count": 3,
   "metadata": {},
   "outputs": [
    {
     "name": "stdout",
     "output_type": "stream",
     "text": [
      "[Bet(team1='Finlande', team2='Angleterre', sport='Football', website_name='winamax', odds=[12, 5.8, 1.25], odds_description=['Finlande', 'Match nul', 'Angleterre']), Bet(team1='Belgique', team2='France', sport='Football', website_name='winamax', odds=[3, 3.35, 2.35], odds_description=['Belgique', 'Match nul', 'France']), Bet(team1='Grèce', team2=\"République d'Irlande\", sport='Football', website_name='winamax', odds=[1.74, 3.4, 5.3], odds_description=['Grèce', 'Match nul', \"République d'Irlande\"]), Bet(team1='Academico Viseu', team2='Maritimo', sport='Football', website_name='winamax', odds=[2.3, 2.95, 2.85], odds_description=['Academico Viseu', 'Match nul', 'Maritimo']), Bet(team1='Real Oviedo', team2='Almeria', sport='Football', website_name='winamax', odds=[2.05, 3.05, 3.25], odds_description=['Real Oviedo', 'Match nul', 'Almeria']), Bet(team1='Racing Santander', team2='Levante', sport='Football', website_name='winamax', odds=[2, 3.4, 3.2], odds_description=['R. Santander', 'Match nul', 'Levante']), Bet(team1='Burgos CF', team2='Mirandes', sport='Football', website_name='winamax', odds=[2.25, 2.7, 3.55], odds_description=['Burgos CF', 'Match nul', 'Mirandes']), Bet(team1='Huesca', team2='Albacete', sport='Football', website_name='winamax', odds=[2.1, 2.65, 3.2], odds_description=['Huesca', 'Match nul', 'Albacete']), Bet(team1='Grenade', team2='Cordoue', sport='Football', website_name='winamax', odds=[2.1, 3.2, 3.2], odds_description=['Grenade', 'Match nul', 'Cordoue']), Bet(team1='Allemagne', team2='Pays-Bas', sport='Football', website_name='winamax', odds=[1.8, 3.9, 4.1], odds_description=['Allemagne', 'Match nul', 'Pays-Bas']), Bet(team1='Huachipato', team2='Colo Colo', sport='Football', website_name='winamax', odds=[5, 3.55, 1.56], odds_description=['Huachipato', 'Match nul', 'Colo Colo']), Bet(team1='Arménie', team2='Macédoine du Nord', sport='Football', website_name='winamax', odds=[2.55, 3.1, 2.9], odds_description=['Arménie', 'Match nul', 'Macédoine du Nord']), Bet(team1='Malte', team2='Moldavie', sport='Football', website_name='winamax', odds=[2.9, 2.75, 2.85], odds_description=['Malte', 'Match nul', 'Moldavie']), Bet(team1='Îles Féroé', team2='Lettonie', sport='Football', website_name='winamax', odds=[2.45, 2.95, 3.2], odds_description=['Îles Féroé', 'Match nul', 'Lettonie']), Bet(team1='Autriche', team2='Norvège', sport='Football', website_name='winamax', odds=[2, 3.45, 3.75], odds_description=['Autriche', 'Match nul', 'Norvège']), Bet(team1='Kazakhstan', team2='Slovénie', sport='Football', website_name='winamax', odds=[6, 3.6, 1.62], odds_description=['Kazakhstan', 'Match nul', 'Slovénie']), Bet(team1='Estonie', team2='Suède', sport='Football', website_name='winamax', odds=[12, 6.75, 1.2], odds_description=['Estonie', 'Match nul', 'Suède']), Bet(team1='Italie', team2='Israël', sport='Football', website_name='winamax', odds=[1.17, 7, 14], odds_description=['Italie', 'Match nul', 'Israël']), Bet(team1='Liechtenstein', team2='Gibraltar', sport='Football', website_name='winamax', odds=[2.6, 2.8, 3.05], odds_description=['Liechtenstein', 'Match nul', 'Gibraltar']), Bet(team1='Chicago Bears', team2='Jacksonville Jaguars', sport='Football américain', website_name='winamax', odds=[1.96, 1.8], odds_description=['Chicago Bears', 'Jacksonville Jaguars']), Bet(team1='Baltimore Ravens', team2='Washington Commanders', sport='Football américain', website_name='winamax', odds=[1.32, 3.25], odds_description=['Baltimore Ravens', 'Washington Commanders']), Bet(team1='New England Patriots', team2='Houston Texans', sport='Football américain', website_name='winamax', odds=[3.4, 1.3], odds_description=['New England Patriots', 'Houston Texans']), Bet(team1='Tennessee Titans', team2='Indianapolis Colts', sport='Football américain', website_name='winamax', odds=[1.64, 2.15], odds_description=['Tennessee Titans', 'Indianapolis Colts']), Bet(team1='New Orleans Saints', team2='Tampa Bay Buccaneers', sport='Football américain', website_name='winamax', odds=[2.45, 1.52], odds_description=['New Orleans Saints', 'Tampa Bay Buccaneers']), Bet(team1='Philadelphia Eagles', team2='Cleveland Browns', sport='Football américain', website_name='winamax', odds=[1.2, 4], odds_description=['Philadelphia Eagles', 'Cleveland Browns']), Bet(team1='Créteil', team2='Paris SG', sport='Handball', website_name='winamax', odds=[11.5, 23, 1.03], odds_description=['Créteil', 'Match nul', 'PSG']), Bet(team1='Nantes', team2='Saint-Raphaël', sport='Handball', website_name='winamax', odds=[1.06, 17, 8.5], odds_description=['Nantes', 'Match nul', 'Saint-Raphaël']), Bet(team1='1. VfL Potsdam', team2='Hanovre Burgdorf', sport='Handball', website_name='winamax', odds=[4.8, 10, 1.2], odds_description=['1. VfL Potsdam', 'Match nul', 'Hanovre Burgdorf']), Bet(team1='Brest', team2='Györ', sport='Handball', website_name='winamax', odds=[2.55, 7.5, 1.62], odds_description=['Brest', 'Match nul', 'Györ']), Bet(team1='Buducnost', team2='Bietigheim-Metterzimmern', sport='Handball', website_name='winamax', odds=[2.15, 5.7, 1.8], odds_description=['Buducnost', 'Match nul', 'Bietigheim-Metterzimmern']), Bet(team1='Füchse Berlin', team2='Rhein-Neckar Löwen', sport='Handball', website_name='winamax', odds=[1.36, 8, 3.55], odds_description=['Füchse Berlin', 'Match nul', 'Rhein-Neckar Löwen']), Bet(team1='Lyon OU', team2='Stade Français', sport='Rugby à XV', website_name='winamax', odds=[1.22, 26, 4], odds_description=['Lyon OU', 'Match nul', 'Stade Français']), Bet(team1='Harlequins', team2='Saracens', sport='Rugby à XV', website_name='winamax', odds=[2.65, 21, 1.41], odds_description=['Harlequins', 'Match nul', 'Saracens']), Bet(team1='Politechnika Lublin', team2='Slepsk Malow Suwalki', sport='Volley-ball', website_name='winamax', odds=[1.16, 3.65], odds_description=['Politechnika Lublin', 'Slepsk Malow Suwalki']), Bet(team1='Akkus Bld', team2='Spor Toto', sport='Volley-ball', website_name='winamax', odds=[28, 1], odds_description=['Akkus Bld', 'Spor Toto']), Bet(team1='Rio Duero ', team2='Teruel', sport='Volley-ball', website_name='winamax', odds=[1.23, 3.15], odds_description=['Rio Duero ', 'Teruel']), Bet(team1='Baxi Manresa', team2='Gran Canaria', sport='Basketball', website_name='winamax', odds=[1.01, 15], odds_description=['Manresa', 'H. Gran Canaria']), Bet(team1='Surne Bilbao Basket', team2='Real Madrid', sport='Basketball', website_name='winamax', odds=[1.12, 4.3], odds_description=['Surne Bilbao Basket', 'R. Madrid']), Bet(team1='Lenovo Tenerife', team2='FC Barcelone', sport='Basketball', website_name='winamax', odds=[2.25, 1.48], odds_description=['Lenovo Tenerife', 'FC Barcelone']), Bet(team1='ASVEL', team2='Le Portel', sport='Basketball', website_name='winamax', odds=[1.04, 7.25], odds_description=['ASVEL', 'Le Portel']), Bet(team1='Lucentum Alicante', team2='Real Betis', sport='Basketball', website_name='winamax', odds=[19, 1.01], odds_description=['Lucentum Alicante', 'Real Betis']), Bet(team1='Galatasaray', team2='Tofas Bursa', sport='Basketball', website_name='winamax', odds=[1.54, 2.05], odds_description=['Galatasaray', 'Tofas Bursa']), Bet(team1='Panathlitikos SF Sykeon', team2='PAS Giannina', sport='Basketball', website_name='winamax', odds=[1.72, 1.7], odds_description=['Panathlitikos SF Sykeon -14.5', 'PAS Giannina +14.5']), Bet(team1='Panathinaikos Athens', team2='Olympiakos Pireaus', sport='Basketball', website_name='winamax', odds=[1.74, 1.72], odds_description=['Panathinaikos Athens', 'Olympiakos Pireaus']), Bet(team1='Athinaikos', team2='PAOK Thessaloniki', sport='Basketball', website_name='winamax', odds=[1.66, 1.78], odds_description=['Athinaikos -42.5', 'PAOK Thessaloniki +42.5']), Bet(team1='Fischtown Pinguins', team2='EHC RB Munich', sport='Hockey sur glace', website_name='winamax', odds=[2.05, 3.45, 2.35], odds_description=['Fischtown', 'Match nul', 'EHC RB']), Bet(team1='S.F.Goh / N.Izzuddin', team2='K.Astrup / A.S.Rasmussen', sport='Badminton', website_name='winamax', odds=[2.45, 1.35], odds_description=['S.F.Goh / N.Izzuddin', 'K.Astrup / A.S.Rasmussen']), Bet(team1='Tien Chen Chou', team2='Jonatan Christie ', sport='Badminton', website_name='winamax', odds=[2.4, 1.39], odds_description=['Tien Chen Chou', 'J. Christie ']), Bet(team1='Cote Boostée : Kazakhstan', team2='Slovénie', sport='Cotes boostées ', website_name='winamax', odds=[3.15], odds_description=['Benjamin Sesko buteur et Slovénie gagne'])]\n"
     ]
    }
   ],
   "source": [
    "winamax.get_page_content()\n",
    "winamax.organise_content()\n",
    "winamax.organise_bets()\n",
    "\n",
    "print(winamax.bets)"
   ]
  }
 ],
 "metadata": {
  "kernelspec": {
   "display_name": "Python 3",
   "language": "python",
   "name": "python3"
  },
  "language_info": {
   "codemirror_mode": {
    "name": "ipython",
    "version": 3
   },
   "file_extension": ".py",
   "mimetype": "text/x-python",
   "name": "python",
   "nbconvert_exporter": "python",
   "pygments_lexer": "ipython3",
   "version": "3.12.7"
  }
 },
 "nbformat": 4,
 "nbformat_minor": 2
}
